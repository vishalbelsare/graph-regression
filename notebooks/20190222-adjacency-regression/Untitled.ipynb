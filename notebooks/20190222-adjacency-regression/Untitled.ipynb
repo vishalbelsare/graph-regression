{
 "cells": [
  {
   "cell_type": "markdown",
   "metadata": {},
   "source": [
    "# Regress the Adjacency Matrix\n",
    "Vivek Gopalakrishnan | February 25, 2019\n",
    "\n",
    "## Overview:\n",
    "Try to learn a model for the adjacency matrix using index and batch ID as input variables.\n",
    "\n",
    "## Contents\n",
    "1. "
   ]
  },
  {
   "cell_type": "code",
   "execution_count": 1,
   "metadata": {},
   "outputs": [],
   "source": [
    "import pandas as pd\n",
    "import numpy as np\n",
    "import matplotlib.pyplot as plt\n",
    "%matplotlib inline\n",
    "\n",
    "import networkx as nx\n",
    "import graspy as gs\n",
    "from graspy.utils import import_graph\n",
    "\n",
    "from collections import OrderedDict\n",
    "import os"
   ]
  },
  {
   "cell_type": "code",
   "execution_count": 2,
   "metadata": {},
   "outputs": [
    {
     "name": "stdout",
     "output_type": "stream",
     "text": [
      "Number of patients in HBN: 99\n",
      "Number of patients in HNU1: 300\n"
     ]
    }
   ],
   "source": [
    "hbn = []\n",
    "hnu = []\n",
    "\n",
    "# Load HBN\n",
    "for root, dirs, files in os.walk('../../data/HBN'):\n",
    "    \n",
    "    for graph in files:\n",
    "        if graph.endswith(\".edgelist\"):\n",
    "            graph_path = os.path.join(root, graph)\n",
    "            G = nx.read_weighted_edgelist(graph_path)\n",
    "            G = gs.utils.pass_to_ranks(G)\n",
    "            if G.shape == (70, 70):\n",
    "                hbn.append(G)\n",
    "            \n",
    "# Load HNU1\n",
    "for root, dirs, files in os.walk('../../data/HNU1'):\n",
    "    \n",
    "    for graph in files:\n",
    "        if graph.endswith(\".edgelist\"):\n",
    "            graph_path = os.path.join(root, graph)\n",
    "            G = nx.read_edgelist(graph_path)\n",
    "            G = gs.utils.pass_to_ranks(G)\n",
    "            if G.shape == (70, 70):\n",
    "                hnu.append(G)\n",
    "\n",
    "# Convert to numpy array\n",
    "hbn = np.array(hbn)\n",
    "hnu = np.array(hnu)\n",
    "print(\"Number of patients in HBN: {}\".format(len(hbn)))\n",
    "print(\"Number of patients in HNU1: {}\".format(len(hnu)))"
   ]
  },
  {
   "cell_type": "code",
   "execution_count": 3,
   "metadata": {},
   "outputs": [],
   "source": [
    "def subsample(data, n_population):\n",
    "    return data[np.random.choice(len(data), size=n_population)]"
   ]
  },
  {
   "cell_type": "code",
   "execution_count": 7,
   "metadata": {},
   "outputs": [],
   "source": [
    "# Constants\n",
    "n_population = 50\n",
    "\n",
    "# Sample the data\n",
    "sub_hbn = subsample(hbn, n_population=n_population).reshape(70,70,-1)\n",
    "sub_hnu = subsample(hnu, n_population=n_population).reshape(70,70,-1)"
   ]
  },
  {
   "cell_type": "code",
   "execution_count": 8,
   "metadata": {},
   "outputs": [
    {
     "data": {
      "text/plain": [
       "(70, 70, 50)"
      ]
     },
     "execution_count": 8,
     "metadata": {},
     "output_type": "execute_result"
    }
   ],
   "source": [
    "sub_hbn.shape"
   ]
  },
  {
   "cell_type": "code",
   "execution_count": 9,
   "metadata": {},
   "outputs": [],
   "source": [
    "X = []\n",
    "Y = []\n",
    "\n",
    "for i in range(sub_hbn.shape[0]):\n",
    "    for j in range(sub_hbn.shape[1]):\n",
    "        X.append([i,j])\n",
    "        Y.append(sub_hbn[i,j,:])"
   ]
  },
  {
   "cell_type": "code",
   "execution_count": 13,
   "metadata": {},
   "outputs": [
    {
     "data": {
      "text/plain": [
       "(4900, 50)"
      ]
     },
     "execution_count": 13,
     "metadata": {},
     "output_type": "execute_result"
    }
   ],
   "source": [
    "np.array(Y).shape"
   ]
  },
  {
   "cell_type": "code",
   "execution_count": null,
   "metadata": {},
   "outputs": [],
   "source": []
  }
 ],
 "metadata": {
  "kernelspec": {
   "display_name": "graph-regression",
   "language": "python",
   "name": "graph-regerssion"
  },
  "language_info": {
   "codemirror_mode": {
    "name": "ipython",
    "version": 3
   },
   "file_extension": ".py",
   "mimetype": "text/x-python",
   "name": "python",
   "nbconvert_exporter": "python",
   "pygments_lexer": "ipython3",
   "version": "3.6.4"
  }
 },
 "nbformat": 4,
 "nbformat_minor": 2
}
