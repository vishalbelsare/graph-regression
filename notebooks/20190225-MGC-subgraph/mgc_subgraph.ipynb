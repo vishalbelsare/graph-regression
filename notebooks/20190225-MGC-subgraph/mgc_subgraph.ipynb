{
 "cells": [
  {
   "cell_type": "markdown",
   "metadata": {},
   "source": [
    "# Constructing the MGC subgraph\n",
    "Vivek Gopalakrishnan | February 25, 2019\n",
    "\n",
    "## Overview:\n",
    "Graphs are constructed of nodes. Nodes that contain information about the batch that a connectome come from confound scientific inquiry. So let's identify those nodes and remove them!\n",
    "\n",
    "Nodes not correlated with batch labels will be identified using MGC and used to construct a subgraph.\n",
    "\n",
    "## Contents\n",
    "1. Import data and embed\n",
    "2. Measure correlation of node with batch label using MGC"
   ]
  },
  {
   "cell_type": "code",
   "execution_count": 1,
   "metadata": {},
   "outputs": [],
   "source": [
    "import pandas as pd\n",
    "import numpy as np\n",
    "import matplotlib.pyplot as plt\n",
    "%matplotlib inline\n",
    "\n",
    "import networkx as nx\n",
    "import graspy as gs\n",
    "from graspy.utils import import_graph\n",
    "\n",
    "from collections import OrderedDict\n",
    "import os"
   ]
  },
  {
   "cell_type": "markdown",
   "metadata": {},
   "source": [
    "### 1. Import data and embed\n",
    "\n",
    "**PROCEDURE:**\n",
    "1. Import the data\n",
    "2. Transform using `cMDS o omni o PTR`\n",
    "3. Visualize via pair plot for sanity"
   ]
  },
  {
   "cell_type": "code",
   "execution_count": 2,
   "metadata": {},
   "outputs": [
    {
     "name": "stdout",
     "output_type": "stream",
     "text": [
      "Number of patients in HBN: 99\n",
      "Number of patients in HNU1: 300\n"
     ]
    }
   ],
   "source": [
    "hbn = []\n",
    "hnu = []\n",
    "\n",
    "# Load HBN\n",
    "for root, dirs, files in os.walk('../../data/HBN'):\n",
    "    \n",
    "    for graph in files:\n",
    "        if graph.endswith(\".edgelist\"):\n",
    "            graph_path = os.path.join(root, graph)\n",
    "            G = nx.read_weighted_edgelist(graph_path)\n",
    "            G = gs.utils.pass_to_ranks(G)\n",
    "            if G.shape == (70, 70):\n",
    "                hbn.append(G)\n",
    "            \n",
    "# Load HNU1\n",
    "for root, dirs, files in os.walk('../../data/HNU1'):\n",
    "    \n",
    "    for graph in files:\n",
    "        if graph.endswith(\".edgelist\"):\n",
    "            graph_path = os.path.join(root, graph)\n",
    "            G = nx.read_edgelist(graph_path)\n",
    "            G = gs.utils.pass_to_ranks(G)\n",
    "            if G.shape == (70, 70):\n",
    "                hnu.append(G)\n",
    "\n",
    "# Convert to numpy array\n",
    "hbn = np.array(hbn)\n",
    "hnu = np.array(hnu)\n",
    "print(\"Number of patients in HBN: {}\".format(len(hbn)))\n",
    "print(\"Number of patients in HNU1: {}\".format(len(hnu)))"
   ]
  },
  {
   "cell_type": "code",
   "execution_count": 3,
   "metadata": {},
   "outputs": [],
   "source": [
    "def embed(data, n_components=50, n_population=75):\n",
    "    \"\"\"Embed a subset of an array of connectomes (data) in specified number of dimensions.\"\"\"\n",
    "    \n",
    "    # Initialize omni    \n",
    "    omni = gs.embed.OmnibusEmbed(n_components=n_components)\n",
    "    \n",
    "    # Embed a random subset of the graphs    \n",
    "    Zhat = omni.fit_transform(data[np.random.choice(len(data), size=n_population)])\n",
    "    \n",
    "    return Zhat"
   ]
  },
  {
   "cell_type": "code",
   "execution_count": 4,
   "metadata": {},
   "outputs": [
    {
     "name": "stdout",
     "output_type": "stream",
     "text": [
      "(3500, 50)\n",
      "(3500, 50)\n"
     ]
    }
   ],
   "source": [
    "# Constants\n",
    "n_components = 50\n",
    "n_population = 50\n",
    "\n",
    "# Embed the data\n",
    "Zhat_hbn = embed(hbn, n_population=n_population)\n",
    "Zhat_hnu = embed(hnu, n_population=n_population)\n",
    "\n",
    "# Verify embedding shapes for sanity\n",
    "print(Zhat_hbn.shape)\n",
    "print(Zhat_hnu.shape)"
   ]
  },
  {
   "cell_type": "code",
   "execution_count": 5,
   "metadata": {},
   "outputs": [
    {
     "name": "stdout",
     "output_type": "stream",
     "text": [
      "(7000, 50)\n",
      "(100, 70, 50)\n"
     ]
    }
   ],
   "source": [
    "# Combine embeddings\n",
    "Zhat = np.vstack([Zhat_hbn, Zhat_hnu])\n",
    "print(Zhat.shape)\n",
    "\n",
    "# Tensor: subject x node x Euclidean representation\n",
    "Zhat = Zhat.reshape((n_population * 2, 70, -1))\n",
    "print(Zhat.shape)"
   ]
  },
  {
   "cell_type": "markdown",
   "metadata": {},
   "source": [
    "### Identify non-essential nodes using MGC\n",
    "\n",
    "`# Iterate over nodes by Zhat[:,i,:]`"
   ]
  },
  {
   "cell_type": "code",
   "execution_count": 6,
   "metadata": {},
   "outputs": [],
   "source": [
    "from collections import OrderedDict\n",
    "\n",
    "import seaborn as sns\n",
    "from mgcpy.independence_tests.mgc.mgc import MGC"
   ]
  },
  {
   "cell_type": "code",
   "execution_count": 7,
   "metadata": {},
   "outputs": [],
   "source": [
    "batch = np.array([-1]*n_population + [1]*n_population).reshape(-1,1)"
   ]
  },
  {
   "cell_type": "code",
   "execution_count": 8,
   "metadata": {},
   "outputs": [],
   "source": [
    "mgc = MGC()\n",
    "stats = OrderedDict()\n",
    "\n",
    "for i in range(Zhat.shape[1]):\n",
    "    mgc_statistic, independence_test_metadata = mgc.test_statistic(Zhat[:,i,:], batch,)\n",
    "    stats[i] = mgc_statistic"
   ]
  },
  {
   "cell_type": "code",
   "execution_count": 9,
   "metadata": {},
   "outputs": [
    {
     "data": {
      "text/plain": [
       "Text(0.5, 0, 'mgc_statistic')"
      ]
     },
     "execution_count": 9,
     "metadata": {},
     "output_type": "execute_result"
    },
    {
     "data": {
      "image/png": "[encoded data removed]",
      "text/plain": [
       "<Figure size 432x288 with 1 Axes>"
      ]
     },
     "metadata": {},
     "output_type": "display_data"
    }
   ],
   "source": [
    "sns.set(style=\"whitegrid\")\n",
    "\n",
    "ax = sns.violinplot(x=list(stats.values()))\n",
    "ax.set_xlabel(\"mgc_statistic\")"
   ]
  },
  {
   "cell_type": "code",
   "execution_count": null,
   "metadata": {},
   "outputs": [],
   "source": []
  }
 ],
 "metadata": {
  "kernelspec": {
   "display_name": "graph-regression",
   "language": "python",
   "name": "graph-regerssion"
  },
  "language_info": {
   "codemirror_mode": {
    "name": "ipython",
    "version": 3
   },
   "file_extension": ".py",
   "mimetype": "text/x-python",
   "name": "python",
   "nbconvert_exporter": "python",
   "pygments_lexer": "ipython3",
   "version": "3.6.4"
  }
 },
 "nbformat": 4,
 "nbformat_minor": 2
}
